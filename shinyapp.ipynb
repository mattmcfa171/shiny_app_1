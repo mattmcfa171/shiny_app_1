{
 "cells": [
  {
   "cell_type": "code",
   "execution_count": 1,
   "id": "181bbc0d-c231-47d6-9281-3f948cc9c992",
   "metadata": {},
   "outputs": [],
   "source": [
    "library(shiny)"
   ]
  },
  {
   "cell_type": "code",
   "execution_count": 15,
   "id": "12e17828-4f97-4863-9cec-5e81e7eea057",
   "metadata": {},
   "outputs": [],
   "source": [
    "ui <- fluidPage(\n",
    "    titlePanel(\"Linear Modeling Data\"),\n",
    "  sidebarLayout(\n",
    "    sidebarPanel(\n",
    "      fileInput(\"file1\", \"Choose CSV File\",\n",
    "        accept = c(\n",
    "          \"text/csv\",\n",
    "          \"text/comma-separated-values,text/plain\",\n",
    "          \".csv\")\n",
    "                )\n",
    "        ),\n",
    "      mainPanel(\n",
    "          plotOutput(\"scatter\")\n",
    "          )\n",
    "      )\n",
    "    )"
   ]
  },
  {
   "cell_type": "code",
   "execution_count": null,
   "id": "41664cde-3403-462a-be29-7e0fb2144f8e",
   "metadata": {},
   "outputs": [],
   "source": []
  }
 ],
 "metadata": {
  "kernelspec": {
   "display_name": "R",
   "language": "R",
   "name": "ir"
  },
  "language_info": {
   "codemirror_mode": "r",
   "file_extension": ".r",
   "mimetype": "text/x-r-source",
   "name": "R",
   "pygments_lexer": "r",
   "version": "4.0.5"
  }
 },
 "nbformat": 4,
 "nbformat_minor": 5
}
